{
 "cells": [
  {
   "cell_type": "markdown",
   "metadata": {},
   "source": [
    "# THE Winter School"
   ]
  },
  {
   "cell_type": "markdown",
   "metadata": {},
   "source": [
    "# **Causal Machine Learning**"
   ]
  },
  {
   "cell_type": "markdown",
   "metadata": {},
   "source": [
    "**Author:**\n",
    "[Anthony Strittmatter](http://www.anthonystrittmatter.com)"
   ]
  },
  {
   "cell_type": "markdown",
   "metadata": {},
   "source": [
    "## Job Corps Program"
   ]
  },
  {
   "cell_type": "markdown",
   "metadata": {},
   "source": [
    "The Job Corps is the largest U.S. labor market program targeting disadvantaged youths.\n",
    "It provides academic, vocational, and social training, as well as health care counseling and job\n",
    "search assistance, for an average duration of eight to nine months. Mathematica Policy Research carried out a randomized experiment with the Job Corps. About 60% of the experimental participants were randomly selected to receive an offer to participate in the Job Corps. Out of these, 73\\% joined the Job Corps program and\n",
    "actually started to participate after an average duration of 1.4 months. The remaining experimental participants were assigned to the control group. Control group members were not eligible for the\n",
    "Job Corps programs for three years following randomization (approximately 1\\% participated\n",
    "anyway).\n",
    "\n",
    "We estimate the effects of receiving an offer to participate in the Job Corps on earnings fours years after the randomisation. We have access to 10,516 observations from the experimental Job Corps data.\n",
    "\n",
    "**Variable list**\n",
    "\n",
    "Outcome:\n",
    "+ **EARNY**: Earnings per week in Year 4\n",
    "\n",
    "Treatments:\n",
    "+ **assignment**: Offer to join Job Corps\n",
    "+ **participation**: Actual participation in Job Corps\n",
    "\n",
    "Covariates (all dummies):\n",
    "+ **female**: Dummy for females\n",
    "+ **age_1**: Aged between 16-17 years\n",
    "+ **age_2**: Aged between 18-19 years\n",
    "+ **age_3**: Aged between 20-24 ye\n",
    "+ **ed0_6**: 0-6 months education program in last year\n",
    "+ **ed6_12**: 6-12 months education program in last yea\n",
    "+ **hs_ged**: High school or GED credential\n",
    "+ **white**: Dummy for white\n",
    "+ **black**: Dummy for African-American\n",
    "+ **hisp**: Dummy for Hispanics\n",
    "+ **oth_eth**: Dummy for other ethnicity\n",
    "+ **haschld**: Dummy for parents\n",
    "+ **livespou**: Lives with spouse or partner\n",
    "+ **everwork**: Ever had job for two weeks or more\n",
    "+ **yr_work**: Worked in year prior to random assignment\n",
    "+ **currjob**: Has job at random assignment\n",
    "+ **job0_3**: Below 3 months employed in last year\n",
    "+ **job3_9**: 3-9 months employed in last year\n",
    "+ **job9_12**: 9-12 months employed in last year\n",
    "+ **earn1**: Yearly earnings less than \\$1,000\n",
    "+ **earn2**: Yearly earnings \\$1,000-5,000\n",
    "+ **earn3**: Yearly earnings \\$5,000-10,000\n",
    "+ **earn4**: Yearly earnings above \\$10,000\n",
    "+ **badhlth**: Dummy for bad healt\n",
    "+ **welf_kid**: Family on welfare when growing up\n",
    "+ **got_fs**: Received food stamps in last year\n",
    "+ **publich**: Public or rent-subsidized housing\n",
    "+ **got_afdc**: Received AFDC in last year\n",
    "+ **harduse**: Used hard drugs in last year\n",
    "+ **potuse**: Smoked marijuana in last year\n",
    "+ **evarrst**: Ever arrested dummy\n",
    "+ **pmsa**: Lives in PMSA\n",
    "+ **msa**: Lives in MSA"
   ]
  },
  {
   "cell_type": "markdown",
   "metadata": {},
   "source": [
    "## Load Packages"
   ]
  },
  {
   "cell_type": "code",
   "execution_count": 2,
   "metadata": {},
   "outputs": [
    {
     "ename": "ERROR",
     "evalue": "Error in library(pkg, character.only = TRUE): there is no package called ‘aer’\n",
     "output_type": "error",
     "traceback": [
      "Error in library(pkg, character.only = TRUE): there is no package called ‘aer’\nTraceback:\n",
      "1. library(pkg, character.only = TRUE)"
     ]
    }
   ],
   "source": [
    "########################  Load Packages  ########################\n",
    "\n",
    "# List of required packages\n",
    "pkgs <- c('fBasics', 'glmnet', 'tidyverse', 'AER')\n",
    "\n",
    "# Load packages\n",
    "for(pkg in pkgs){\n",
    "    library(pkg, character.only = TRUE)\n",
    "}\n",
    "\n",
    "print('All packages successfully installed and loaded.')"
   ]
  },
  {
   "cell_type": "markdown",
   "metadata": {},
   "source": [
    "## Load Data"
   ]
  },
  {
   "cell_type": "code",
   "execution_count": null,
   "metadata": {},
   "outputs": [],
   "source": [
    "########################  Load Data Frame  ########################\n",
    "#set.seed(100239) # set starting value for random number generator\n",
    "\n",
    "# Load data frame\n",
    "df <- read.csv(\"Data/job_corps.csv\",header=TRUE, sep=\",\")\n",
    "\n",
    "print('Data successfully loaded.')"
   ]
  },
  {
   "cell_type": "markdown",
   "metadata": {},
   "source": [
    "## Means and Standard Deviations"
   ]
  },
  {
   "cell_type": "code",
   "execution_count": null,
   "metadata": {},
   "outputs": [],
   "source": [
    "########################  Table with Descriptive Statistics  ########################\n",
    "desc <- fBasics::basicStats(df) %>% t() %>% as.data.frame() %>% \n",
    "  select(Mean, Stdev, Minimum, Maximum, nobs)\n",
    "print(round(desc, digits=2))"
   ]
  },
  {
   "cell_type": "markdown",
   "metadata": {},
   "source": [
    "## Prepare Data"
   ]
  },
  {
   "cell_type": "code",
   "execution_count": null,
   "metadata": {},
   "outputs": [],
   "source": [
    "########################  Partition the Samples  ########################\n",
    "\n",
    "# Partition Samples for Cross-Fitting\n",
    "df_part <- modelr::resample_partition(df, c(obs_A = 0.5, obs_B = 0.5))\n",
    "df_obs_A <- as.data.frame(df_part$obs_A) # Sample A\n",
    "df_obs_B <- as.data.frame(df_part$obs_B) # Sample B\n",
    "\n",
    "print('Samples are partitioned.')\n",
    "\n",
    "########################  Generate Variables  ########################\n",
    "\n",
    "# Outcome\n",
    "earnings_obs_A <- as.matrix(df_obs_A[,1])\n",
    "earnings_obs_B <- as.matrix(df_obs_B[,1])\n",
    "\n",
    "# Treatment\n",
    "treat = 3 #Select treatment 2= offer to participate, 3 = actual participation\n",
    "treat_obs_A <- as.matrix(df_obs_A[,treat])\n",
    "treat_obs_B <- as.matrix(df_obs_B[,treat])\n",
    "\n",
    "# Covariates\n",
    "covariates_obs_A <- as.matrix(df_obs_A[,c(4:ncol(df_obs_A))])\n",
    "covariates_obs_B <- as.matrix(df_obs_B[,c(4:ncol(df_obs_B))])\n",
    "\n",
    "print('The data is now ready for your analysis!')"
   ]
  },
  {
   "cell_type": "markdown",
   "metadata": {},
   "source": [
    "# Nuisance Parameters"
   ]
  },
  {
   "cell_type": "markdown",
   "metadata": {},
   "source": [
    "We use Lasso to estimate the nuisance parameters."
   ]
  },
  {
   "cell_type": "markdown",
   "metadata": {},
   "source": [
    "### Conditional Potential Outcomes"
   ]
  },
  {
   "cell_type": "code",
   "execution_count": null,
   "metadata": {
    "scrolled": false
   },
   "outputs": [],
   "source": [
    "########################  Conditional Potential Earnings  ########################\n",
    "p = 1 # 1 for LASSO, 0 for Ridge\n",
    "set.seed(100237)\n",
    "\n",
    "## Using Sample A to Predict Sample B\n",
    "# Potential Earnings under Treatment\n",
    "lasso_y1_A <- cv.glmnet(covariates_obs_A[treat_obs_A==1,], earnings_obs_A[treat_obs_A==1,],\n",
    "                              alpha=p, type.measure = 'mse')\n",
    "plot(lasso_y1_A)\n",
    "fit_y1_A <- glmnet(covariates_obs_A[treat_obs_A==1,], earnings_obs_A[treat_obs_A==1,]\n",
    "                        ,lambda = lasso_y1_A$lambda.min)\n",
    "y1hat_B <- predict(fit_y1_A, covariates_obs_B)\n",
    "\n",
    "# Potential Earnings under Non-Treatment\n",
    "lasso_y0_A <- cv.glmnet(covariates_obs_A[treat_obs_A==0,], earnings_obs_A[treat_obs_A==0,],\n",
    "                              alpha=p, type.measure = 'mse')\n",
    "plot(lasso_y0_A)\n",
    "fit_y0_A <- glmnet(covariates_obs_A[treat_obs_A==0,], earnings_obs_A[treat_obs_A==0,]\n",
    "                        ,lambda = lasso_y0_A$lambda.min)\n",
    "y0hat_B <- predict(fit_y0_A, covariates_obs_B)\n",
    "\n",
    "## Using Sample B to Predict Sample A\n",
    "# Potential Earnings under Treatment\n",
    "lasso_y1_B <- cv.glmnet(covariates_obs_B[treat_obs_B==1,], earnings_obs_B[treat_obs_B==1,],\n",
    "                              alpha=p, type.measure = 'mse')\n",
    "plot(lasso_y1_B)\n",
    "fit_y1_B <- glmnet(covariates_obs_B[treat_obs_B==1,], earnings_obs_B[treat_obs_B==1,]\n",
    "                        ,lambda = lasso_y1_B$lambda.min)\n",
    "y1hat_A <- predict(fit_y1_B, covariates_obs_A)\n",
    "\n",
    "# Potential Earnings under Non-Treatment\n",
    "lasso_y0_B <- cv.glmnet(covariates_obs_B[treat_obs_B==0,], earnings_obs_B[treat_obs_B==0,],\n",
    "                              alpha=p, type.measure = 'mse')\n",
    "plot(lasso_y0_B)\n",
    "fit_y0_B <- glmnet(covariates_obs_B[treat_obs_B==0,], earnings_obs_B[treat_obs_B==0,]\n",
    "                        ,lambda = lasso_y0_B$lambda.min)\n",
    "y0hat_A <- predict(fit_y0_B, covariates_obs_A, type = 'response')"
   ]
  },
  {
   "cell_type": "markdown",
   "metadata": {},
   "source": [
    "### Propensity Score"
   ]
  },
  {
   "cell_type": "markdown",
   "metadata": {},
   "source": [
    "We use a Logit-Lasso to estimate the propensity score."
   ]
  },
  {
   "cell_type": "code",
   "execution_count": null,
   "metadata": {},
   "outputs": [],
   "source": [
    "########################  Propensity Score  ########################\n",
    "p = 1 # 1 for LASSO, 0 for Ridge\n",
    "set.seed(100236)\n",
    "\n",
    "# Using Sample A to Predict Sample B\n",
    "lasso_p_A <- cv.glmnet(covariates_obs_A, treat_obs_A, alpha=p, type.measure = 'mse')\n",
    "plot(lasso_p_A)\n",
    "fit_p_A <- glmnet(covariates_obs_A, treat_obs_A,lambda = lasso_p_A$lambda.min)\n",
    "pscore_B <- predict(fit_p_A, covariates_obs_B)\n",
    "\n",
    "# Using Sample B to Predict Sample A\n",
    "lasso_p_B <- cv.glmnet(covariates_obs_B, treat_obs_B, alpha=p, type.measure = 'mse')\n",
    "plot(lasso_p_B)\n",
    "fit_p_B <- glmnet(covariates_obs_B, treat_obs_B,lambda = lasso_p_B$lambda.min)\n",
    "pscore_A <- predict(fit_p_B, covariates_obs_A)"
   ]
  },
  {
   "cell_type": "markdown",
   "metadata": {},
   "source": [
    "# Modified Outcome Method"
   ]
  },
  {
   "cell_type": "markdown",
   "metadata": {},
   "source": [
    "### Average Treatment Effects (ATEs)"
   ]
  },
  {
   "cell_type": "markdown",
   "metadata": {},
   "source": [
    "We use the double machine learning approach to estimate ATEs."
   ]
  },
  {
   "cell_type": "code",
   "execution_count": null,
   "metadata": {},
   "outputs": [],
   "source": [
    "########################  Average Treatment Effects (ATE)  ########################\n",
    "\n",
    "# Generate Modified Outcome\n",
    "Y_star_A = invisible(y1hat_A - y0hat_A + treat_obs_A*(earnings_obs_A - y1hat_A)/pscore_A \n",
    "            - (1-treat_obs_A)*(earnings_obs_A - y0hat_A)/(1-pscore_A))\n",
    "\n",
    "Y_star_B = invisible(y1hat_B - y0hat_B + treat_obs_B*(earnings_obs_B - y1hat_B)/pscore_B \n",
    "            - (1-treat_obs_B)*(earnings_obs_B - y0hat_B)/(1-pscore_B))\n",
    "\n",
    "Y_star = invisible(0.5*(mean(Y_star_A) + mean(Y_star_B)))\n",
    "\n",
    "# Average Treatment Effect (ATE)\n",
    "ATE <- round(mean(Y_star), digits=1)\n",
    "psi_A <- Y_star_A- mean(Y_star_A)\n",
    "psi_B <- Y_star_B- mean(Y_star_B)\n",
    "SD_ATE <- round(sqrt(0.5*(var(psi_A) + (mean(Y_star_A) - mean(Y_star))^2)/nrow(psi_A) \n",
    "                     + 0.5*(var(psi_B) + (mean(Y_star_B) - mean(Y_star))^2)/nrow(psi_B)),digits=1)\n",
    "print(paste0(\"Average Treatment Effect (ATE): \", ATE))\n",
    "print(paste0(\"Standard Error for ATE: \", SD_ATE))"
   ]
  },
  {
   "cell_type": "markdown",
   "metadata": {},
   "source": [
    "### Compare results with OLS"
   ]
  },
  {
   "cell_type": "code",
   "execution_count": null,
   "metadata": {},
   "outputs": [],
   "source": [
    "### Compare results with OLS ###\n",
    "\n",
    "ols <- lm(EARNY4 ~ participation, data = df)\n",
    "summary(ols)"
   ]
  },
  {
   "cell_type": "markdown",
   "metadata": {},
   "source": [
    "### Compare results with IV"
   ]
  },
  {
   "cell_type": "code",
   "execution_count": null,
   "metadata": {},
   "outputs": [],
   "source": [
    "### Compare results with IV ###\n",
    "iv <- ivreg(formula = EARNY4 ~ participation | participation ~ assignment, data = df)\n",
    "summary(iv)"
   ]
  },
  {
   "cell_type": "code",
   "execution_count": null,
   "metadata": {},
   "outputs": [],
   "source": []
  }
 ],
 "metadata": {
  "kernelspec": {
   "display_name": "R",
   "language": "R",
   "name": "ir"
  },
  "language_info": {
   "codemirror_mode": "r",
   "file_extension": ".r",
   "mimetype": "text/x-r-source",
   "name": "R",
   "pygments_lexer": "r",
   "version": "3.6.1"
  }
 },
 "nbformat": 4,
 "nbformat_minor": 2
}
